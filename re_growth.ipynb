{
 "cells": [
  {
   "cell_type": "code",
   "execution_count": 4,
   "id": "cf8ed46c",
   "metadata": {},
   "outputs": [],
   "source": [
    "import pandas as pd"
   ]
  },
  {
   "cell_type": "code",
   "execution_count": 20,
   "id": "68722018",
   "metadata": {
    "scrolled": true
   },
   "outputs": [],
   "source": [
    "df = pd.read_csv(\"korea_re_generation_new.csv\", encoding = 'EUC-KR')"
   ]
  },
  {
   "cell_type": "code",
   "execution_count": 74,
   "id": "7792c8f8",
   "metadata": {
    "scrolled": true
   },
   "outputs": [],
   "source": [
    "pd.options.display.max_columns = None"
   ]
  },
  {
   "cell_type": "code",
   "execution_count": 63,
   "id": "2d3ee77b",
   "metadata": {},
   "outputs": [],
   "source": [
    "re = df[['시점', '① 재생에너지', '① 재생에너지.3', '신·재생에너지 총보급용량(발전)①+②.3']]\n",
    "\n",
    "cols = ['year','re_solar', 're_wind', 're_total']\n",
    "re.columns = cols\n",
    "\n",
    "re = re[5:]\n",
    "re.to_csv('re_trends.csv', index=False)"
   ]
  },
  {
   "cell_type": "code",
   "execution_count": 64,
   "id": "99f0f9ee",
   "metadata": {},
   "outputs": [],
   "source": [
    "permit = pd.read_csv(\"df_cleaned.csv\")"
   ]
  },
  {
   "cell_type": "code",
   "execution_count": 65,
   "id": "304ee7e5",
   "metadata": {},
   "outputs": [],
   "source": [
    "re_permit = permit[(permit.cleaned_type=='solar') | (permit.cleaned_type=='wind')]\n",
    "re_permit = re_permit.groupby(['year', 'cleaned_type']).sum('capacity_mw').reset_index()\n",
    "re_permit['capacity_KW'] = re_permit.capacity_MW*1000\n",
    "re_permit = re_permit.pivot(index='year', columns='cleaned_type', values='capacity_KW').reset_index()\n",
    "re_permit.to_csv(\"re_permit_kw.csv\", index=False)\n",
    "                                                            \n",
    "                                                                                       \n",
    "                                                                                   "
   ]
  },
  {
   "cell_type": "code",
   "execution_count": 73,
   "id": "bbf4967d",
   "metadata": {},
   "outputs": [],
   "source": [
    "re.year = re.year.astype(int)\n",
    "re.solar = re.re_solar.astype(float)\n",
    "re.wind = re.re_wind.astype(float)\n",
    "re.re_total = re.re_total.astype(float)"
   ]
  },
  {
   "cell_type": "code",
   "execution_count": 72,
   "id": "610657d1",
   "metadata": {},
   "outputs": [],
   "source": [
    "re_permit_and_gen = re_permit.merge(re, on='year', how=\"outer\").sort_values(by=\"year\")\n",
    "re_permit_and_gen.to_csv(\"re_permit_and_gen.csv\", index=False)"
   ]
  },
  {
   "cell_type": "code",
   "execution_count": null,
   "id": "4d87e849",
   "metadata": {},
   "outputs": [],
   "source": []
  }
 ],
 "metadata": {
  "kernelspec": {
   "display_name": "Python 3 (ipykernel)",
   "language": "python",
   "name": "python3"
  },
  "language_info": {
   "codemirror_mode": {
    "name": "ipython",
    "version": 3
   },
   "file_extension": ".py",
   "mimetype": "text/x-python",
   "name": "python",
   "nbconvert_exporter": "python",
   "pygments_lexer": "ipython3",
   "version": "3.11.0rc2"
  }
 },
 "nbformat": 4,
 "nbformat_minor": 5
}
