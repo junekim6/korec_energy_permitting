{
 "cells": [
  {
   "cell_type": "code",
   "execution_count": 1,
   "metadata": {},
   "outputs": [],
   "source": [
    "# the \"requests\" library\n",
    "#allows you to make browser like requests to the Internet\n",
    "import requests\n"
   ]
  },
  {
   "cell_type": "markdown",
   "metadata": {},
   "source": [
    "GOOGLE'S GEOCODING API:\n",
    "https://developers.google.com/maps/documentation/geocoding"
   ]
  },
  {
   "cell_type": "code",
   "execution_count": 2,
   "metadata": {},
   "outputs": [],
   "source": [
    "#You always need a key to use an API\n",
    "#That is how they track you to make sure you don't overuse it\n",
    "#I have hidden in my API key inside my computer.\n",
    "#Never post code that has your own private API Key\n",
    "import os\n",
    "api_key = os.environ['GMAP_API']\n",
    "#https://www.youtube.com/watch?v=5iWhQWVXosU"
   ]
  },
  {
   "cell_type": "code",
   "execution_count": null,
   "metadata": {},
   "outputs": [],
   "source": []
  },
  {
   "cell_type": "code",
   "execution_count": 4,
   "metadata": {},
   "outputs": [],
   "source": [
    "#Setting up a request object\n",
    "url = 'https://maps.googleapis.com/maps/api/geocode/json'\n",
    "keys = {'address': '6 E 16th Street, New York, NY', 'key': api_key}\n",
    "#Making the request\n",
    "r = requests.get(url,params=keys)"
   ]
  },
  {
   "cell_type": "code",
   "execution_count": 5,
   "metadata": {},
   "outputs": [],
   "source": [
    "#Interpreting it as json\n",
    "result_dic = r.json()"
   ]
  },
  {
   "cell_type": "code",
   "execution_count": null,
   "metadata": {},
   "outputs": [],
   "source": []
  },
  {
   "cell_type": "code",
   "execution_count": 6,
   "metadata": {},
   "outputs": [
    {
     "data": {
      "text/plain": [
       "{'results': [{'address_components': [{'long_name': 'Albert and Vera List Academic Center',\n",
       "     'short_name': 'Albert and Vera List Academic Center',\n",
       "     'types': ['premise']},\n",
       "    {'long_name': '79', 'short_name': '79', 'types': ['street_number']},\n",
       "    {'long_name': '5th Avenue', 'short_name': '5th Ave', 'types': ['route']},\n",
       "    {'long_name': 'Manhattan',\n",
       "     'short_name': 'Manhattan',\n",
       "     'types': ['political', 'sublocality', 'sublocality_level_1']},\n",
       "    {'long_name': 'New York',\n",
       "     'short_name': 'New York',\n",
       "     'types': ['locality', 'political']},\n",
       "    {'long_name': 'New York County',\n",
       "     'short_name': 'New York County',\n",
       "     'types': ['administrative_area_level_2', 'political']},\n",
       "    {'long_name': 'New York',\n",
       "     'short_name': 'NY',\n",
       "     'types': ['administrative_area_level_1', 'political']},\n",
       "    {'long_name': 'United States',\n",
       "     'short_name': 'US',\n",
       "     'types': ['country', 'political']},\n",
       "    {'long_name': '10003', 'short_name': '10003', 'types': ['postal_code']}],\n",
       "   'formatted_address': 'Albert and Vera List Academic Center, 79 5th Ave, New York, NY 10003, USA',\n",
       "   'geometry': {'bounds': {'northeast': {'lat': 40.7371909, 'lng': -73.99204},\n",
       "     'southwest': {'lat': 40.7367317, 'lng': -73.99272719999999}},\n",
       "    'location': {'lat': 40.73703039999999, 'lng': -73.99250669999999},\n",
       "    'location_type': 'ROOFTOP',\n",
       "    'viewport': {'northeast': {'lat': 40.73831028029149,\n",
       "      'lng': -73.99103461970849},\n",
       "     'southwest': {'lat': 40.7356123197085, 'lng': -73.9937325802915}}},\n",
       "   'place_id': 'ChIJxSB8g6JZwokRV0d2tgs0RsE',\n",
       "   'types': ['premise']}],\n",
       " 'status': 'OK'}"
      ]
     },
     "execution_count": 6,
     "metadata": {},
     "output_type": "execute_result"
    }
   ],
   "source": [
    "#Viewing the dictionary\n",
    "result_dic"
   ]
  },
  {
   "cell_type": "code",
   "execution_count": 9,
   "metadata": {},
   "outputs": [
    {
     "data": {
      "text/plain": [
       "{'lat': 40.73703039999999, 'lng': -73.99250669999999}"
      ]
     },
     "execution_count": 9,
     "metadata": {},
     "output_type": "execute_result"
    }
   ],
   "source": [
    "result_dic['results'][0]['geometry']['location']"
   ]
  },
  {
   "cell_type": "code",
   "execution_count": 8,
   "metadata": {},
   "outputs": [
    {
     "data": {
      "text/plain": [
       "{'bounds': {'northeast': {'lat': 40.7371909, 'lng': -73.99204},\n",
       "  'southwest': {'lat': 40.7367317, 'lng': -73.99272719999999}},\n",
       " 'location': {'lat': 40.73703039999999, 'lng': -73.99250669999999},\n",
       " 'location_type': 'ROOFTOP',\n",
       " 'viewport': {'northeast': {'lat': 40.73831028029149,\n",
       "   'lng': -73.99103461970849},\n",
       "  'southwest': {'lat': 40.7356123197085, 'lng': -73.9937325802915}}}"
      ]
     },
     "execution_count": 8,
     "metadata": {},
     "output_type": "execute_result"
    }
   ],
   "source": [
    "result_dic['results'][0]['geometry']"
   ]
  },
  {
   "cell_type": "code",
   "execution_count": 9,
   "metadata": {},
   "outputs": [
    {
     "data": {
      "text/plain": [
       "{'lat': 40.73703039999999, 'lng': -73.99250669999999}"
      ]
     },
     "execution_count": 9,
     "metadata": {},
     "output_type": "execute_result"
    }
   ],
   "source": [
    "result_dic['results'][0]['geometry']['location']['lat']"
   ]
  },
  {
   "cell_type": "code",
   "execution_count": 14,
   "metadata": {},
   "outputs": [],
   "source": [
    "#Writing the dictionary as JSON file to your computer!!\n",
    "import json\n",
    "with open('result.json', 'w') as fp:\n",
    "    json.dump(result_dic, fp)"
   ]
  },
  {
   "cell_type": "markdown",
   "metadata": {},
   "source": [
    "### Using Google maps API with time.sleep()!!!\n",
    "Here I'm going to loop through an array (list!!!) of cities and get their coordinates. But I'm going to pause my loop so that I don't make too many requests to fast and upset Google.\n"
   ]
  },
  {
   "cell_type": "code",
   "execution_count": 21,
   "metadata": {},
   "outputs": [],
   "source": [
    "import time\n",
    "##Importing time allows me to slow down my loop\n",
    "#placeNames = ['Washington, DC','New York, NY','Boston, MA','San Francisco, CA','Canada','Portland, OR']\n",
    "\n",
    "placeNames = [\"San Franscisco, CA\",\"Atlanta, GA\",\"New York, NY\",\n",
    "    \"Richmond, VA\",\"Washington, DC\",\"Denver, CO\",\"Cincinnati, OH\",\n",
    "          \"Philadelphia, PA\",\"Topeka, KS\",\"New Orleans, LA\",\"Washington, DC\",\n",
    "          \"Helena, MT\",\"Olympia, WA\",\"Phoenix, AZ\", \"St. Louis, MO\",\"Oklahoma City, OK\",\"New Orleans, LA\"]\n"
   ]
  },
  {
   "cell_type": "code",
   "execution_count": 22,
   "metadata": {},
   "outputs": [
    {
     "data": {
      "text/plain": [
       "[{'place': 'San Franscisco, CA',\n",
       "  'geometry.type': 'Point',\n",
       "  'geometry.coordinates': [-122.4194155, 37.7749295]},\n",
       " {'place': 'Atlanta, GA',\n",
       "  'geometry.type': 'Point',\n",
       "  'geometry.coordinates': [-84.3879824, 33.7489954]},\n",
       " {'place': 'New York, NY',\n",
       "  'geometry.type': 'Point',\n",
       "  'geometry.coordinates': [-74.0059728, 40.7127753]},\n",
       " {'place': 'Richmond, VA',\n",
       "  'geometry.type': 'Point',\n",
       "  'geometry.coordinates': [-77.4360481, 37.5407246]},\n",
       " {'place': 'Washington, DC',\n",
       "  'geometry.type': 'Point',\n",
       "  'geometry.coordinates': [-77.0368707, 38.9071923]},\n",
       " {'place': 'Denver, CO',\n",
       "  'geometry.type': 'Point',\n",
       "  'geometry.coordinates': [-104.990251, 39.7392358]},\n",
       " {'place': 'Cincinnati, OH',\n",
       "  'geometry.type': 'Point',\n",
       "  'geometry.coordinates': [-84.5120196, 39.1031182]},\n",
       " {'place': 'Philadelphia, PA',\n",
       "  'geometry.type': 'Point',\n",
       "  'geometry.coordinates': [-75.1652215, 39.9525839]},\n",
       " {'place': 'Topeka, KS',\n",
       "  'geometry.type': 'Point',\n",
       "  'geometry.coordinates': [-95.67515759999999, 39.0473451]},\n",
       " {'place': 'New Orleans, LA',\n",
       "  'geometry.type': 'Point',\n",
       "  'geometry.coordinates': [-90.0715323, 29.95106579999999]},\n",
       " {'place': 'Washington, DC',\n",
       "  'geometry.type': 'Point',\n",
       "  'geometry.coordinates': [-77.0368707, 38.9071923]},\n",
       " {'place': 'Helena, MT',\n",
       "  'geometry.type': 'Point',\n",
       "  'geometry.coordinates': [-112.0391057, 46.5891452]},\n",
       " {'place': 'Olympia, WA',\n",
       "  'geometry.type': 'Point',\n",
       "  'geometry.coordinates': [-122.9006951, 47.0378741]},\n",
       " {'place': 'Phoenix, AZ',\n",
       "  'geometry.type': 'Point',\n",
       "  'geometry.coordinates': [-112.0740373, 33.4483771]},\n",
       " {'place': 'St. Louis, MO',\n",
       "  'geometry.type': 'Point',\n",
       "  'geometry.coordinates': [-90.19940419999999, 38.6270025]},\n",
       " {'place': 'Oklahoma City, OK',\n",
       "  'geometry.type': 'Point',\n",
       "  'geometry.coordinates': [-97.5164276, 35.4675602]},\n",
       " {'place': 'New Orleans, LA',\n",
       "  'geometry.type': 'Point',\n",
       "  'geometry.coordinates': [-90.0715323, 29.95106579999999]}]"
      ]
     },
     "execution_count": 22,
     "metadata": {},
     "output_type": "execute_result"
    }
   ],
   "source": [
    "#a resultsArray (list!!!)\n",
    "#df is often short for dataframe\n",
    "geometry_df = []\n",
    "#looping through the placeNames list\n",
    "for place in placeNames:\n",
    "    url = 'https://maps.googleapis.com/maps/api/geocode/json'\n",
    "    keys = {'address': place, 'key': api_key}\n",
    "    r = requests.get(url,params=keys)\n",
    "    result_dic = r.json()\n",
    "    lat = result_dic['results'][0]['geometry']['location']['lat']\n",
    "    long = result_dic['results'][0]['geometry']['location']['lng']\n",
    "    coords = []\n",
    "    coords.append(long)\n",
    "    coords.append(lat)\n",
    "    mygeometry = {'place': place, 'geometry.type': 'Point','geometry.coordinates':coords}\n",
    "    geometry_df.append(mygeometry)\n",
    "    time.sleep(1)\n",
    "geometry_df"
   ]
  },
  {
   "cell_type": "code",
   "execution_count": 24,
   "metadata": {},
   "outputs": [],
   "source": [
    "#Writing my final geometry data frame to a JSON file\n",
    "#On my computer!!!\n",
    "import json\n",
    "with open('result_df12-9.json', 'w') as fp:\n",
    "    json.dump(geometry_df, fp)"
   ]
  },
  {
   "cell_type": "code",
   "execution_count": null,
   "metadata": {
    "collapsed": true
   },
   "outputs": [],
   "source": []
  }
 ],
 "metadata": {
  "kernelspec": {
   "display_name": "Python 3 (ipykernel)",
   "language": "python",
   "name": "python3"
  },
  "language_info": {
   "codemirror_mode": {
    "name": "ipython",
    "version": 3
   },
   "file_extension": ".py",
   "mimetype": "text/x-python",
   "name": "python",
   "nbconvert_exporter": "python",
   "pygments_lexer": "ipython3",
   "version": "3.10.0"
  }
 },
 "nbformat": 4,
 "nbformat_minor": 2
}
