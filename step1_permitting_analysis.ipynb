{
 "cells": [
  {
   "cell_type": "code",
   "execution_count": 2,
   "id": "919d4b3f",
   "metadata": {},
   "outputs": [],
   "source": [
    "import pandas as pd\n",
    "import camelot\n",
    "import time\n",
    "import numpy as np\n",
    "import re\n",
    "import glob \n",
    "import re"
   ]
  },
  {
   "cell_type": "code",
   "execution_count": 3,
   "id": "a146eb0a",
   "metadata": {},
   "outputs": [],
   "source": [
    "# Read in original pdf file using camelot and transform it into dataframes.\n",
    "\n",
    "# tables = camelot.read_pdf(\"raw.pdf\", flavor='lattice', pages='1-end')"
   ]
  },
  {
   "cell_type": "code",
   "execution_count": 4,
   "id": "4dfc2c60",
   "metadata": {},
   "outputs": [],
   "source": [
    "# Save parsed dataframes into csv.\n",
    "\n",
    "# for i, table in enumerate(tables):\n",
    "#     table.df.to_csv(f\"data/{i}.csv\", index=False, header=False)"
   ]
  },
  {
   "cell_type": "markdown",
   "id": "3edc2d1a",
   "metadata": {},
   "source": [
    "# Read in saved CSV files"
   ]
  },
  {
   "cell_type": "code",
   "execution_count": 5,
   "id": "85871713",
   "metadata": {},
   "outputs": [],
   "source": [
    "# Read in all csv files and save as list of dataframes.\n",
    "\n",
    "filenames = glob.glob(\"data/*.csv\")\n",
    "onlynumbers = [filename[5:-4] for filename in filenames]\n",
    "numbers = sorted([int(num) for num in onlynumbers])\n",
    "\n",
    "dataframes = []\n",
    "for num in numbers:\n",
    "    dataframes.append(pd.read_csv(f\"data/{num}.csv\"))\n",
    "\n",
    "# Remove the first three tables, which are not real data, but an example tables from the document.\n",
    "dataframes = dataframes[3:]\n",
    "\n",
    "default_columns = dataframes[0].columns.str.replace(r'\\n','', regex=True)\n",
    "default_columns = [col for col in default_columns if col != 'NO']\n",
    "\n",
    "# Strip all \\n from cell values\n",
    "# Handle Error Cases\n",
    "# Standardize Column format\n",
    "for idx, dataframe in enumerate(dataframes):\n",
    "    dataframe.replace(r'\\n','', regex=True, inplace=True)\n",
    "    dataframe.columns = dataframe.columns.str.replace(r'\\n','', regex=True)\n",
    "    \n",
    "    dataframe.rename(columns={\n",
    "        \"*허가일*변경일\" : \"허가및변경일\"\n",
    "    }, inplace=True)\n",
    "    \n",
    "    dataframe.rename(columns={\n",
    "        \"NO 대표자\" : \"대표자\"\n",
    "    }, inplace=True)\n",
    "    \n",
    "    try:\n",
    "        dataframes[idx] = dataframe[default_columns]\n",
    "    except Exception as e:\n",
    "        error_msg = e\n",
    "        \n",
    "        if str(error_msg) == \"\\\"['용량(MW)', '허가및변경일'] not in index\\\"\":\n",
    "            dataframe.rename(columns={\n",
    "                \"Unnamed: 6\" : \"허가및변경일\",\n",
    "                \"용량허가및변경(MW)일\" : \"용량(MW)\"\n",
    "            }, inplace=True)\n",
    "            dataframes[idx] = dataframe[default_columns]\n",
    "        else:\n",
    "            print(f\"Problem with Columns in Dataframe {idx} : {error_msg}\")"
   ]
  },
  {
   "cell_type": "code",
   "execution_count": 6,
   "id": "5e24d517",
   "metadata": {},
   "outputs": [],
   "source": [
    "# Concatenate all tables into a single master df\n",
    "\n",
    "df = pd.concat(dataframes, ignore_index=True)\n",
    "\n",
    "# Create column names\n",
    "\n",
    "df.columns = ['owner', 'company', 'address', 'type', 'capacity_MW', 'approval_date', 'prep_time', 'note']\n",
    "\n",
    "# Remove all rows with no cell values\n",
    "\n",
    "df = df[~df.isnull().all(axis=1)]"
   ]
  },
  {
   "cell_type": "code",
   "execution_count": 7,
   "id": "2c828a2f",
   "metadata": {
    "scrolled": false
   },
   "outputs": [],
   "source": [
    "quote_missing = df.approval_date.isna() & df.prep_time.notnull()\n",
    "df.loc[quote_missing, \"approval_date\"] = df.loc[quote_missing, \"approval_date\"].fillna(\"“\")\n",
    "\n",
    "# Replace '“', '\\\"' values with proper cell values.\n",
    "\n",
    "for column in df.columns:\n",
    "    missing_index = df[(df[column] == '“') | (df[column] == '\\\"') | (df[column] == '‘“')].index.values.astype(int)\n",
    "    for index in missing_index:\n",
    "        df[column][index] = df[column][index-1]\n",
    "\n",
    "df = df[~df.isnull().all(axis=1)]\n",
    "df.reset_index(drop=True, inplace=True)"
   ]
  },
  {
   "cell_type": "code",
   "execution_count": 8,
   "id": "4e05bfcf",
   "metadata": {
    "scrolled": true
   },
   "outputs": [],
   "source": [
    "# Some \"owner\" cells include company names. \n",
    "# If owner cell has two words and the company cell is empty,\n",
    "# transfer the second word from the owner cell to the company cell.\n",
    "\n",
    "company_in_owner_col_filt = (df['owner'].str.split().str.len() > 1) & df['company'].isna()\n",
    "\n",
    "companies_and_owners = df.loc[company_in_owner_col_filt, 'owner'].str.split()\n",
    "\n",
    "owners = companies_and_owners.apply(lambda l: l[0])\n",
    "companies = companies_and_owners.apply(lambda l: l[1])\n",
    "\n",
    "df.loc[company_in_owner_col_filt, 'owner'] = owners\n",
    "df.loc[company_in_owner_col_filt, 'company'] = companies\n",
    "\n",
    "\n",
    "# Some \"address\" cells include company names. \n",
    "\n",
    "# If the company cell is empty and address cell is not, transfer the company name from the address cell to the company cell.\n",
    "\n",
    "company_in_address_col_filt = df['approval_date'].notnull() & df['address'].notnull() & df['owner'].notnull() & df['company'].isna()\n",
    "\n",
    "companies_and_adddress = df.loc[company_in_address_col_filt, 'address'].str.split()\n",
    "\n",
    "companies = companies_and_adddress.apply(lambda l: l[0])\n",
    "addresses = companies_and_adddress.apply(lambda l: \" \".join(l[1:]))\n",
    "\n",
    "df.loc[company_in_address_col_filt, 'company'] = companies\n",
    "df.loc[company_in_address_col_filt, 'address'] = addresses\n",
    "\n"
   ]
  },
  {
   "cell_type": "markdown",
   "id": "5e95e7c2",
   "metadata": {},
   "source": [
    "# Combine overflowing rows into a single row."
   ]
  },
  {
   "cell_type": "code",
   "execution_count": 9,
   "id": "262994ce",
   "metadata": {},
   "outputs": [],
   "source": [
    "def concat(v1, v2):\n",
    "    result = \"\"\n",
    "    if v1 is not np.nan:\n",
    "        result += str(v1)\n",
    "    if result:\n",
    "        result += \" \"\n",
    "    if v2 is not np.nan:\n",
    "        result += str(v2)\n",
    "    if not result:\n",
    "        result = np.nan\n",
    "    return result"
   ]
  },
  {
   "cell_type": "code",
   "execution_count": 10,
   "id": "d6ed084e",
   "metadata": {},
   "outputs": [],
   "source": [
    "def roll_up(df):\n",
    "    for idx in reversed(df[df[\"approval_date\"].isna()].index):\n",
    "        df.loc[idx-1] = df.loc[idx-1].combine(df.loc[idx], concat)\n",
    "        df.drop(index=idx, inplace=True)\n",
    "    df.reset_index(drop=True, inplace=True)"
   ]
  },
  {
   "cell_type": "code",
   "execution_count": 11,
   "id": "15da6911",
   "metadata": {},
   "outputs": [],
   "source": [
    "roll_up(df)"
   ]
  },
  {
   "cell_type": "markdown",
   "id": "f94a0bdc",
   "metadata": {},
   "source": [
    "# Replace NaN in note column to \"신규\" (newly approved)"
   ]
  },
  {
   "cell_type": "markdown",
   "id": "c6886b07",
   "metadata": {},
   "source": [
    "### Check if note section is in \"prep_time\" column and move them into \"note\" column."
   ]
  },
  {
   "cell_type": "code",
   "execution_count": 12,
   "id": "68673afb",
   "metadata": {
    "scrolled": true
   },
   "outputs": [
    {
     "name": "stderr",
     "output_type": "stream",
     "text": [
      "/var/folders/_c/dcjy1m9109bd_sq8l8j8zsdr0000gn/T/ipykernel_12517/1414399185.py:7: UserWarning: This pattern is interpreted as a regular expression, and has match groups. To actually get the groups, use str.extract.\n",
      "  note_in_prep = ~df.prep_time.str.contains(r\"^(\\d|-|\\.|\\s|‘|호기|년이?내?|개?월|'|\"\"|\\(|\\)|[A-Z])+$|_\", na=False) & df.note.isna()\n",
      "/var/folders/_c/dcjy1m9109bd_sq8l8j8zsdr0000gn/T/ipykernel_12517/1414399185.py:9: SettingWithCopyWarning: \n",
      "A value is trying to be set on a copy of a slice from a DataFrame\n",
      "\n",
      "See the caveats in the documentation: https://pandas.pydata.org/pandas-docs/stable/user_guide/indexing.html#returning-a-view-versus-a-copy\n",
      "  df_note_in_prep.drop([12], axis=0, inplace=True)\n"
     ]
    }
   ],
   "source": [
    "df.prep_time.fillna(\"\", inplace=True)\n",
    "\n",
    "\n",
    "note_in_prep = ~df.prep_time.str.contains(r\"^(\\d|-|\\.|\\s|‘|호기|년이?내?|개?월|'|\"\"|\\(|\\)|[A-Z])+$|_\", na=False) & df.note.isna()\n",
    "df_note_in_prep = df[note_in_prep]\n",
    "df_note_in_prep.drop([12], axis=0, inplace=True)"
   ]
  },
  {
   "cell_type": "code",
   "execution_count": 13,
   "id": "879d41cb",
   "metadata": {},
   "outputs": [
    {
     "name": "stderr",
     "output_type": "stream",
     "text": [
      "/var/folders/_c/dcjy1m9109bd_sq8l8j8zsdr0000gn/T/ipykernel_12517/4185455413.py:5: SettingWithCopyWarning: \n",
      "A value is trying to be set on a copy of a slice from a DataFrame.\n",
      "Try using .loc[row_indexer,col_indexer] = value instead\n",
      "\n",
      "See the caveats in the documentation: https://pandas.pydata.org/pandas-docs/stable/user_guide/indexing.html#returning-a-view-versus-a-copy\n",
      "  df_note_in_prep.note = df_note_in_prep.prep_time.apply(lambda x: retrieve_note(x))\n"
     ]
    }
   ],
   "source": [
    "def retrieve_note(prep):\n",
    "    note = re.findall(r\"^\\d{4}\\.?-?\\d{1,2}\\.?-?\\d{1,2}(.*)\", prep)[0].strip()\n",
    "    return note\n",
    "\n",
    "df_note_in_prep.note = df_note_in_prep.prep_time.apply(lambda x: retrieve_note(x))\n",
    "\n",
    "df.loc[df_note_in_prep.index, \"note\"] = df_note_in_prep.note"
   ]
  },
  {
   "cell_type": "code",
   "execution_count": 14,
   "id": "309d774f",
   "metadata": {
    "scrolled": false
   },
   "outputs": [],
   "source": [
    "df.note.fillna('신규', inplace=True)\n",
    "df.note = df.note.str.replace(\" \", \"\") \\\n",
    "    .str.replace(\"nan\", \"신규\") \\\n",
    "    .str.replace(\"nannan\", \"신규\") \\\n",
    "    .str.replace(\"신규신규\", \"신규\")\n",
    "\n",
    "\n",
    "# Check non-Nan values in note to see if they are also onewly approved.\n",
    "\n",
    "not_new = ['연장', '변경', '취득', '용량', '용량변경', '정정', '재발급', '인가', '양수', '추가', '합병', '증설', '양도', '개시', '반납', '취소', '축소', '준비기간', '조정', '법인', 'SRF', \"→\", '지번', '재교부', '전환', '수정', '발전', '종류', '공급', '폐기물', '배방읍', '구분']\n",
    "# new = ['신규', '이내', '허가', '일부', '동의']\n",
    "\n",
    "df.loc[~df.note.str.contains('|'.join(not_new)), \"note\"] = \"신규\"\n"
   ]
  },
  {
   "cell_type": "code",
   "execution_count": 15,
   "id": "a97d9ac7",
   "metadata": {},
   "outputs": [
    {
     "data": {
      "text/plain": [
       "array(['신규'], dtype=object)"
      ]
     },
     "execution_count": 15,
     "metadata": {},
     "output_type": "execute_result"
    }
   ],
   "source": [
    "df[~df.note.str.contains('|'.join(not_new))].note.unique()"
   ]
  },
  {
   "cell_type": "markdown",
   "id": "1fa4dacf",
   "metadata": {},
   "source": [
    "# Convert \"approval_date\" from df_new to datetime"
   ]
  },
  {
   "cell_type": "code",
   "execution_count": 16,
   "id": "1ace34f0",
   "metadata": {
    "scrolled": true
   },
   "outputs": [],
   "source": [
    "# Only select plants that are newly approved\n",
    "\n",
    "df_new = df[df.note=='신규']"
   ]
  },
  {
   "cell_type": "code",
   "execution_count": 17,
   "id": "35e66ceb",
   "metadata": {},
   "outputs": [
    {
     "name": "stderr",
     "output_type": "stream",
     "text": [
      "/var/folders/_c/dcjy1m9109bd_sq8l8j8zsdr0000gn/T/ipykernel_12517/2103708735.py:3: SettingWithCopyWarning: \n",
      "A value is trying to be set on a copy of a slice from a DataFrame.\n",
      "Try using .loc[row_indexer,col_indexer] = value instead\n",
      "\n",
      "See the caveats in the documentation: https://pandas.pydata.org/pandas-docs/stable/user_guide/indexing.html#returning-a-view-versus-a-copy\n",
      "  df_new.approval_date = df_new.approval_date.str.replace(\"`\", \"20\", regex=False).str.replace(\"‘\", \"20\", regex=False).str.replace(\"'\", \"20\", regex=False).str.replace(\".\", \"-\", regex=False)\n",
      "/var/folders/_c/dcjy1m9109bd_sq8l8j8zsdr0000gn/T/ipykernel_12517/2103708735.py:4: SettingWithCopyWarning: \n",
      "A value is trying to be set on a copy of a slice from a DataFrame.\n",
      "Try using .loc[row_indexer,col_indexer] = value instead\n",
      "\n",
      "See the caveats in the documentation: https://pandas.pydata.org/pandas-docs/stable/user_guide/indexing.html#returning-a-view-versus-a-copy\n",
      "  df_new.approval_date = df_new.approval_date \\\n"
     ]
    }
   ],
   "source": [
    "# Clean up approval_date\n",
    "\n",
    "df_new.approval_date = df_new.approval_date.str.replace(\"`\", \"20\", regex=False).str.replace(\"‘\", \"20\", regex=False).str.replace(\"'\", \"20\", regex=False).str.replace(\".\", \"-\", regex=False)\n",
    "df_new.approval_date = df_new.approval_date \\\n",
    "                        .str.replace(r\"^12-5$\", \"2011-12-05\", regex=True) \\\n",
    "                        .str.replace(r\"^3-5$\", \"2012-03-05\", regex=True) \\\n",
    "                        .str.replace(r\"^3-30$\", \"2012-03-30\", regex=True) \\\n",
    "                        .str.replace(r\"^4-26$\", \"2012-04-26\", regex=True) \\\n",
    "                        .str.replace(r\"^12-6-4$\", \"2012-06-04\", regex=True)\n"
   ]
  },
  {
   "cell_type": "code",
   "execution_count": 18,
   "id": "ef36ffbc",
   "metadata": {
    "collapsed": true
   },
   "outputs": [
    {
     "name": "stderr",
     "output_type": "stream",
     "text": [
      "/var/folders/_c/dcjy1m9109bd_sq8l8j8zsdr0000gn/T/ipykernel_12517/1993496021.py:1: SettingWithCopyWarning: \n",
      "A value is trying to be set on a copy of a slice from a DataFrame.\n",
      "Try using .loc[row_indexer,col_indexer] = value instead\n",
      "\n",
      "See the caveats in the documentation: https://pandas.pydata.org/pandas-docs/stable/user_guide/indexing.html#returning-a-view-versus-a-copy\n",
      "  df_new['year'] = df_new.approval_date.str[:4]\n",
      "/var/folders/_c/dcjy1m9109bd_sq8l8j8zsdr0000gn/T/ipykernel_12517/1993496021.py:9: SettingWithCopyWarning: \n",
      "A value is trying to be set on a copy of a slice from a DataFrame.\n",
      "Try using .loc[row_indexer,col_indexer] = value instead\n",
      "\n",
      "See the caveats in the documentation: https://pandas.pydata.org/pandas-docs/stable/user_guide/indexing.html#returning-a-view-versus-a-copy\n",
      "  df_new['month'] = df_new.approval_date.apply(lambda x: string_to_month(x))\n",
      "/var/folders/_c/dcjy1m9109bd_sq8l8j8zsdr0000gn/T/ipykernel_12517/1993496021.py:10: SettingWithCopyWarning: \n",
      "A value is trying to be set on a copy of a slice from a DataFrame.\n",
      "Try using .loc[row_indexer,col_indexer] = value instead\n",
      "\n",
      "See the caveats in the documentation: https://pandas.pydata.org/pandas-docs/stable/user_guide/indexing.html#returning-a-view-versus-a-copy\n",
      "  df_new['month'] = df_new['month'].str.zfill(2)\n",
      "/var/folders/_c/dcjy1m9109bd_sq8l8j8zsdr0000gn/T/ipykernel_12517/1993496021.py:12: SettingWithCopyWarning: \n",
      "A value is trying to be set on a copy of a slice from a DataFrame.\n",
      "Try using .loc[row_indexer,col_indexer] = value instead\n",
      "\n",
      "See the caveats in the documentation: https://pandas.pydata.org/pandas-docs/stable/user_guide/indexing.html#returning-a-view-versus-a-copy\n",
      "  df_new['cleaned_approval_time'] = df_new['year'] + \"-\" + df_new['month']\n",
      "/var/folders/_c/dcjy1m9109bd_sq8l8j8zsdr0000gn/T/ipykernel_12517/1993496021.py:13: SettingWithCopyWarning: \n",
      "A value is trying to be set on a copy of a slice from a DataFrame.\n",
      "Try using .loc[row_indexer,col_indexer] = value instead\n",
      "\n",
      "See the caveats in the documentation: https://pandas.pydata.org/pandas-docs/stable/user_guide/indexing.html#returning-a-view-versus-a-copy\n",
      "  df_new['cleaned_approval_time'] = pd.to_datetime(df_new['cleaned_approval_time'], format=\"%Y-%m\")\n"
     ]
    }
   ],
   "source": [
    "df_new['year'] = df_new.approval_date.str[:4]\n",
    "\n",
    "month_regex = r\"\\d{4}-(\\d{1,2})\"\n",
    "\n",
    "def string_to_month(string):\n",
    "    month = re.findall(month_regex, string)[0]\n",
    "    return month\n",
    "\n",
    "df_new['month'] = df_new.approval_date.apply(lambda x: string_to_month(x))\n",
    "df_new['month'] = df_new['month'].str.zfill(2)\n",
    "\n",
    "df_new['cleaned_approval_time'] = df_new['year'] + \"-\" + df_new['month']\n",
    "df_new['cleaned_approval_time'] = pd.to_datetime(df_new['cleaned_approval_time'], format=\"%Y-%m\")"
   ]
  },
  {
   "cell_type": "markdown",
   "id": "219adbe1",
   "metadata": {},
   "source": [
    "# Clean up \"용량(MW)\" (capacity) column into a consistent format"
   ]
  },
  {
   "cell_type": "markdown",
   "id": "99caed39",
   "metadata": {},
   "source": [
    "### 1. If the cell is in KW, change the number and unit to MW."
   ]
  },
  {
   "cell_type": "code",
   "execution_count": 230,
   "id": "60f839ef",
   "metadata": {
    "collapsed": true
   },
   "outputs": [
    {
     "name": "stderr",
     "output_type": "stream",
     "text": [
      "/var/folders/_c/dcjy1m9109bd_sq8l8j8zsdr0000gn/T/ipykernel_65599/1890943783.py:10: SettingWithCopyWarning: \n",
      "A value is trying to be set on a copy of a slice from a DataFrame.\n",
      "Try using .loc[row_indexer,col_indexer] = value instead\n",
      "\n",
      "See the caveats in the documentation: https://pandas.pydata.org/pandas-docs/stable/user_guide/indexing.html#returning-a-view-versus-a-copy\n",
      "  df_in_kw.loc[has_10k, 'cleaned_capacity'] = df_in_kw['capacity_MW'].str.replace(\"만\", \"0000\")\n",
      "/var/folders/_c/dcjy1m9109bd_sq8l8j8zsdr0000gn/T/ipykernel_65599/1890943783.py:14: SettingWithCopyWarning: \n",
      "A value is trying to be set on a copy of a slice from a DataFrame.\n",
      "Try using .loc[row_indexer,col_indexer] = value instead\n",
      "\n",
      "See the caveats in the documentation: https://pandas.pydata.org/pandas-docs/stable/user_guide/indexing.html#returning-a-view-versus-a-copy\n",
      "  df_in_kw.cleaned_capacity = df_in_kw.cleaned_capacity.fillna(df_in_kw.capacity_MW)\n",
      "/var/folders/_c/dcjy1m9109bd_sq8l8j8zsdr0000gn/T/ipykernel_65599/1890943783.py:17: SettingWithCopyWarning: \n",
      "A value is trying to be set on a copy of a slice from a DataFrame.\n",
      "Try using .loc[row_indexer,col_indexer] = value instead\n",
      "\n",
      "See the caveats in the documentation: https://pandas.pydata.org/pandas-docs/stable/user_guide/indexing.html#returning-a-view-versus-a-copy\n",
      "  df_in_kw.cleaned_capacity = df_in_kw.cleaned_capacity \\\n",
      "/var/folders/_c/dcjy1m9109bd_sq8l8j8zsdr0000gn/T/ipykernel_65599/1890943783.py:25: SettingWithCopyWarning: \n",
      "A value is trying to be set on a copy of a slice from a DataFrame.\n",
      "Try using .loc[row_indexer,col_indexer] = value instead\n",
      "\n",
      "See the caveats in the documentation: https://pandas.pydata.org/pandas-docs/stable/user_guide/indexing.html#returning-a-view-versus-a-copy\n",
      "  df_in_kw.cleaned_capacity = df_in_kw.cleaned_capacity.astype(float)\n",
      "/var/folders/_c/dcjy1m9109bd_sq8l8j8zsdr0000gn/T/ipykernel_65599/1890943783.py:26: SettingWithCopyWarning: \n",
      "A value is trying to be set on a copy of a slice from a DataFrame.\n",
      "Try using .loc[row_indexer,col_indexer] = value instead\n",
      "\n",
      "See the caveats in the documentation: https://pandas.pydata.org/pandas-docs/stable/user_guide/indexing.html#returning-a-view-versus-a-copy\n",
      "  df_in_kw.cleaned_capacity = df_in_kw.cleaned_capacity / 1000\n",
      "/var/folders/_c/dcjy1m9109bd_sq8l8j8zsdr0000gn/T/ipykernel_65599/1890943783.py:27: SettingWithCopyWarning: \n",
      "A value is trying to be set on a copy of a slice from a DataFrame.\n",
      "Try using .loc[row_indexer,col_indexer] = value instead\n",
      "\n",
      "See the caveats in the documentation: https://pandas.pydata.org/pandas-docs/stable/user_guide/indexing.html#returning-a-view-versus-a-copy\n",
      "  df_in_kw[has_multiple_plants].cleaned_capacity = df_in_kw[has_multiple_plants].cleaned_capacity * 2\n",
      "/var/folders/_c/dcjy1m9109bd_sq8l8j8zsdr0000gn/T/ipykernel_65599/1890943783.py:30: SettingWithCopyWarning: \n",
      "A value is trying to be set on a copy of a slice from a DataFrame.\n",
      "Try using .loc[row_indexer,col_indexer] = value instead\n",
      "\n",
      "See the caveats in the documentation: https://pandas.pydata.org/pandas-docs/stable/user_guide/indexing.html#returning-a-view-versus-a-copy\n",
      "  df_in_kw['capacity_MW'] = df_in_kw['cleaned_capacity']\n",
      "/var/folders/_c/dcjy1m9109bd_sq8l8j8zsdr0000gn/T/ipykernel_65599/1890943783.py:31: SettingWithCopyWarning: \n",
      "A value is trying to be set on a copy of a slice from a DataFrame\n",
      "\n",
      "See the caveats in the documentation: https://pandas.pydata.org/pandas-docs/stable/user_guide/indexing.html#returning-a-view-versus-a-copy\n",
      "  df_in_kw.drop(columns=['cleaned_capacity'], inplace=True)\n"
     ]
    }
   ],
   "source": [
    "df_in_kw = df_new[df_new['capacity_MW'].str.lower().str.contains(\"kw\", na=False)]\n",
    "\n",
    "# Identify which cells have multiple plants, so I can multiply the capacity by two later on.\n",
    "has_multiple_plants = df_in_kw['capacity_MW'].str.contains(\"기\")\n",
    "\n",
    "# df.capacity_MW[\"kw\" in df.capacity_MW.str.lower()]\n",
    "has_10k = df_in_kw['capacity_MW'].str.contains(\"만\")\n",
    "has_1k = df_in_kw['capacity_MW'].str.contains(\"천\")\n",
    "\n",
    "df_in_kw.loc[has_10k, 'cleaned_capacity'] = df_in_kw['capacity_MW'].str.replace(\"만\", \"0000\")\n",
    "df_in_kw.loc[has_10k & has_1k, 'cleaned_capacity'] = df_in_kw['capacity_MW'].str.replace(\"만\", \"\").str.replace(\"천\", \"000\")\n",
    "\n",
    "# Fill in empty 'cleaned_capacity' column with 'capacity_MW' values.\n",
    "df_in_kw.cleaned_capacity = df_in_kw.cleaned_capacity.fillna(df_in_kw.capacity_MW)\n",
    "\n",
    "# Convert capacity value into int and divide capacity by 1,000\n",
    "df_in_kw.cleaned_capacity = df_in_kw.cleaned_capacity \\\n",
    "                                .str.lower() \\\n",
    "                                .str.replace(\"총\", \"\") \\\n",
    "                                .str.replace(\"kw\", \"\") \\\n",
    "                                .str.replace(\",\", \"\") \\\n",
    "                                .str.replace(\"7-8호기\", \"\") \\\n",
    "                                .str.replace(\"2기\", \"\")\n",
    "\n",
    "df_in_kw.cleaned_capacity = df_in_kw.cleaned_capacity.astype(float)\n",
    "df_in_kw.cleaned_capacity = df_in_kw.cleaned_capacity / 1000\n",
    "df_in_kw[has_multiple_plants].cleaned_capacity = df_in_kw[has_multiple_plants].cleaned_capacity * 2\n",
    "\n",
    "\n",
    "df_in_kw['capacity_MW'] = df_in_kw['cleaned_capacity']\n",
    "df_in_kw.drop(columns=['cleaned_capacity'], inplace=True)\n",
    "\n",
    "df_new.loc[df_in_kw.index, 'capacity_MW'] = df_in_kw['capacity_MW']\n"
   ]
  },
  {
   "cell_type": "markdown",
   "id": "3adb0876",
   "metadata": {},
   "source": [
    "### 2. Check if there are other problems with the capacity_MW columns"
   ]
  },
  {
   "cell_type": "code",
   "execution_count": 231,
   "id": "bfa0afce",
   "metadata": {
    "collapsed": true
   },
   "outputs": [
    {
     "name": "stderr",
     "output_type": "stream",
     "text": [
      "/var/folders/_c/dcjy1m9109bd_sq8l8j8zsdr0000gn/T/ipykernel_65599/3657384742.py:8: FutureWarning: The default value of regex will change from True to False in a future version.\n",
      "  .str.replace(r\"×?1기\", \"\")\n",
      "/var/folders/_c/dcjy1m9109bd_sq8l8j8zsdr0000gn/T/ipykernel_65599/3657384742.py:2: SettingWithCopyWarning: \n",
      "A value is trying to be set on a copy of a slice from a DataFrame.\n",
      "Try using .loc[row_indexer,col_indexer] = value instead\n",
      "\n",
      "See the caveats in the documentation: https://pandas.pydata.org/pandas-docs/stable/user_guide/indexing.html#returning-a-view-versus-a-copy\n",
      "  df_new.capacity_MW = df_new.capacity_MW.astype(str)\\\n",
      "/var/folders/_c/dcjy1m9109bd_sq8l8j8zsdr0000gn/T/ipykernel_65599/3657384742.py:12: SettingWithCopyWarning: \n",
      "A value is trying to be set on a copy of a slice from a DataFrame.\n",
      "Try using .loc[row_indexer,col_indexer] = value instead\n",
      "\n",
      "See the caveats in the documentation: https://pandas.pydata.org/pandas-docs/stable/user_guide/indexing.html#returning-a-view-versus-a-copy\n",
      "  df_new[\"capacity_MW\"] = df_new[\"capacity_MW\"].str.replace(r\"[(].*[)]\", \"\", regex=True)\n",
      "/var/folders/_c/dcjy1m9109bd_sq8l8j8zsdr0000gn/T/ipykernel_65599/3657384742.py:16: FutureWarning: The default value of regex will change from True to False in a future version.\n",
      "  .str.replace(\"834.3\\(gt2기 st\", \"834.3\") \\\n",
      "/var/folders/_c/dcjy1m9109bd_sq8l8j8zsdr0000gn/T/ipykernel_65599/3657384742.py:18: FutureWarning: The default value of regex will change from True to False in a future version.\n",
      "  .str.replace(\"여수250군장122.9\", \"372.9\") \\\n",
      "/var/folders/_c/dcjy1m9109bd_sq8l8j8zsdr0000gn/T/ipykernel_65599/3657384742.py:19: FutureWarning: The default value of regex will change from True to False in a future version.\n",
      "  .str.replace(\"126313.67.3\", \"1283.9\") \\\n",
      "/var/folders/_c/dcjy1m9109bd_sq8l8j8zsdr0000gn/T/ipykernel_65599/3657384742.py:20: FutureWarning: The default value of regex will change from True to False in a future version.\n",
      "  .str.replace(\"555.17.2\", \"762.3\") \\\n",
      "/var/folders/_c/dcjy1m9109bd_sq8l8j8zsdr0000gn/T/ipykernel_65599/3657384742.py:21: FutureWarning: The default value of regex will change from True to False in a future version.\n",
      "  .str.replace(\"19.99 3.0\", \"19.993\") \\\n",
      "/var/folders/_c/dcjy1m9109bd_sq8l8j8zsdr0000gn/T/ipykernel_65599/3657384742.py:24: FutureWarning: The default value of regex will change from True to False in a future version.\n",
      "  .str.replace(\"82219.2\", \"841.2\") \\\n",
      "/var/folders/_c/dcjy1m9109bd_sq8l8j8zsdr0000gn/T/ipykernel_65599/3657384742.py:15: SettingWithCopyWarning: \n",
      "A value is trying to be set on a copy of a slice from a DataFrame.\n",
      "Try using .loc[row_indexer,col_indexer] = value instead\n",
      "\n",
      "See the caveats in the documentation: https://pandas.pydata.org/pandas-docs/stable/user_guide/indexing.html#returning-a-view-versus-a-copy\n",
      "  df_new.capacity_MW = df_new.capacity_MW.str.replace(\"13900×22500\", \"36400\") \\\n",
      "/var/folders/_c/dcjy1m9109bd_sq8l8j8zsdr0000gn/T/ipykernel_65599/3657384742.py:31: SettingWithCopyWarning: \n",
      "A value is trying to be set on a copy of a slice from a DataFrame.\n",
      "Try using .loc[row_indexer,col_indexer] = value instead\n",
      "\n",
      "See the caveats in the documentation: https://pandas.pydata.org/pandas-docs/stable/user_guide/indexing.html#returning-a-view-versus-a-copy\n",
      "  df_new.capacity_MW = df_new.capacity_MW.astype(float)\n"
     ]
    }
   ],
   "source": [
    "# Remove all commas and \"MW\" from values.\n",
    "df_new.capacity_MW = df_new.capacity_MW.astype(str)\\\n",
    "                        .str.lower() \\\n",
    "                        .str.replace(\",\", \"\") \\\n",
    "                        .str.replace(\"mw\", \"\") \\\n",
    "                        .str.replace(\"nan\", \"\") \\\n",
    "                        .str.replace(\"!\", \"1\") \\\n",
    "                        .str.replace(r\"×?1기\", \"\")\n",
    "\n",
    "# Remove additional information from capacity_MW cells.\n",
    "has_additional_info = df_new.capacity_MW.str.contains(\"\\(\") & df_new.capacity_MW.str.contains(\"\\)\")\n",
    "df_new[\"capacity_MW\"] = df_new[\"capacity_MW\"].str.replace(r\"[(].*[)]\", \"\", regex=True)\n",
    "\n",
    "# Additional manual cleaning for misread values by cross-referncig them with original pdf file.\n",
    "df_new.capacity_MW = df_new.capacity_MW.str.replace(\"13900×22500\", \"36400\") \\\n",
    "                                        .str.replace(\"834.3\\(gt2기 st\", \"834.3\") \\\n",
    "                                        .str.replace(\"13500×5기1000×3기380\", \"70880\") \\\n",
    "                                        .str.replace(\"여수250군장122.9\", \"372.9\") \\\n",
    "                                        .str.replace(\"126313.67.3\", \"1283.9\") \\\n",
    "                                        .str.replace(\"555.17.2\", \"762.3\") \\\n",
    "                                        .str.replace(\"19.99 3.0\", \"19.993\") \\\n",
    "                                        .str.replace(\" \", \"\") \\\n",
    "                                        .str.strip() \\\n",
    "                                        .str.replace(\"82219.2\", \"841.2\") \\\n",
    "\n",
    "# There are three entries with empty capacity, where its 9.9 capacity is placed within the energy type. Fix these entires.\n",
    "df_new.loc[df_new.capacity_MW == \"\", 'capacity_MW'] = df_new[df_new.capacity_MW == \"\"][\"capacity_MW\"].str.replace(\"\", \"9.9\")\n",
    "\n",
    "\n",
    "# Some capacity numbers are unreasonbly high, and may actually be in kw. Identify these entries.\n",
    "df_new.capacity_MW = df_new.capacity_MW.astype(float)\n",
    "df_new[df_new.capacity_MW>1000]\n",
    "df_new.loc[df_new.capacity_MW >= 35000, 'capacity_MW'] = df_new[df_new.capacity_MW >= 35000][\"capacity_MW\"]/1000\n",
    "\n"
   ]
  },
  {
   "cell_type": "markdown",
   "id": "cbd77004",
   "metadata": {},
   "source": [
    "# Clean \"Type\" from df_new"
   ]
  },
  {
   "cell_type": "code",
   "execution_count": 232,
   "id": "b639d10a",
   "metadata": {
    "collapsed": true
   },
   "outputs": [
    {
     "name": "stderr",
     "output_type": "stream",
     "text": [
      "/var/folders/_c/dcjy1m9109bd_sq8l8j8zsdr0000gn/T/ipykernel_65599/3518237327.py:1: SettingWithCopyWarning: \n",
      "A value is trying to be set on a copy of a slice from a DataFrame.\n",
      "Try using .loc[row_indexer,col_indexer] = value instead\n",
      "\n",
      "See the caveats in the documentation: https://pandas.pydata.org/pandas-docs/stable/user_guide/indexing.html#returning-a-view-versus-a-copy\n",
      "  df_new.type = df_new.type.str.replace(\" \", \"\")\n",
      "/var/folders/_c/dcjy1m9109bd_sq8l8j8zsdr0000gn/T/ipykernel_65599/3518237327.py:4: SettingWithCopyWarning: \n",
      "A value is trying to be set on a copy of a slice from a DataFrame.\n",
      "Try using .loc[row_indexer,col_indexer] = value instead\n",
      "\n",
      "See the caveats in the documentation: https://pandas.pydata.org/pandas-docs/stable/user_guide/indexing.html#returning-a-view-versus-a-copy\n",
      "  df_new.company = df_new.company.str.replace(\"영암태 전\", \"영암태양광발전\")\n",
      "/var/folders/_c/dcjy1m9109bd_sq8l8j8zsdr0000gn/T/ipykernel_65599/3518237327.py:5: SettingWithCopyWarning: \n",
      "A value is trying to be set on a copy of a slice from a DataFrame.\n",
      "Try using .loc[row_indexer,col_indexer] = value instead\n",
      "\n",
      "See the caveats in the documentation: https://pandas.pydata.org/pandas-docs/stable/user_guide/indexing.html#returning-a-view-versus-a-copy\n",
      "  df_new.address = df_new.address.str.replace(\"양광발 전\", \"전\")\n"
     ]
    }
   ],
   "source": [
    "df_new.type = df_new.type.str.replace(\" \", \"\")\n",
    "\n",
    "# Manual cleaning misread values by cross-referencing with original pdf.\n",
    "df_new.company = df_new.company.str.replace(\"영암태 전\", \"영암태양광발전\")\n",
    "df_new.address = df_new.address.str.replace(\"양광발 전\", \"전\")\n",
    "df_new.loc[956, \"type\"] = \"태양광\"\n",
    "df_new.loc[1667, \"type\"] = \"태양광\"\n",
    "df_new.loc[2572, \"type\"] = \"풍력\""
   ]
  },
  {
   "cell_type": "markdown",
   "id": "d1c26075",
   "metadata": {},
   "source": [
    "### Simplify type into \"cleaned_type\" column."
   ]
  },
  {
   "cell_type": "code",
   "execution_count": 233,
   "id": "f34d4031",
   "metadata": {
    "scrolled": true
   },
   "outputs": [
    {
     "name": "stderr",
     "output_type": "stream",
     "text": [
      "/var/folders/_c/dcjy1m9109bd_sq8l8j8zsdr0000gn/T/ipykernel_65599/2481554190.py:1: SettingWithCopyWarning: \n",
      "A value is trying to be set on a copy of a slice from a DataFrame.\n",
      "Try using .loc[row_indexer,col_indexer] = value instead\n",
      "\n",
      "See the caveats in the documentation: https://pandas.pydata.org/pandas-docs/stable/user_guide/indexing.html#returning-a-view-versus-a-copy\n",
      "  df_new['cleaned_type'] = np.nan\n"
     ]
    }
   ],
   "source": [
    "df_new['cleaned_type'] = np.nan\n",
    "\n",
    "df_new.loc[df_new.type.str.contains(\"가스\", na=False), 'cleaned_type'] = \"gas\"\n",
    "df_new.loc[df_new.type.str.contains(\"폐열\", na=False), 'cleaned_type'] = \"coal\"\n",
    "df_new.loc[df_new.type.str.contains(\"바이오\", na=False), 'cleaned_type'] = \"bioenergy\"\n",
    "df_new.loc[df_new.type.str.contains(\"목질계\", na=False), 'cleaned_type'] = \"bioenergy\"\n",
    "df_new.loc[df_new.type.str.contains(\"우드칩\", na=False), 'cleaned_type'] = \"bioenergy\"\n",
    "df_new.loc[df_new.type.str.contains(\"원자력\", na=False), 'cleaned_type'] = \"nuclear\"\n",
    "df_new.loc[df_new.type.str.contains(\"수력\", na=False), 'cleaned_type'] = \"hydro\"\n",
    "df_new.loc[df_new.type.str.contains(\"양수\", na=False), 'cleaned_type'] = \"hydro\"\n",
    "df_new.loc[df_new.type.str.contains(\"풍력\", na=False), 'cleaned_type'] = \"wind\"\n",
    "df_new.loc[df_new.type.str.contains(\"태양광\", na=False), 'cleaned_type'] = \"solar\"\n",
    "df_new.loc[df_new.type.str.contains(\"석탄\", na=False), 'cleaned_type'] = \"coal\"\n",
    "df_new.loc[df_new.type.str.contains(\"유연탄\", na=False), 'cleaned_type'] = \"coal\"\n",
    "df_new.loc[df_new.type.str.lower().str.contains(\"ng\", na=False), 'cleaned_type'] = \"gas\"\n",
    "df_new.loc[df_new.cleaned_type.isna(), 'cleaned_type'] = \"others\"\n",
    "\n",
    "\n"
   ]
  },
  {
   "cell_type": "code",
   "execution_count": 234,
   "id": "29c3e790",
   "metadata": {},
   "outputs": [],
   "source": [
    "df_cleaned = df_new[['cleaned_type', 'capacity_MW', 'address', 'year', 'company', 'owner']]"
   ]
  },
  {
   "cell_type": "markdown",
   "id": "92cebd7e",
   "metadata": {},
   "source": [
    "# Clean up \"address\" column"
   ]
  },
  {
   "cell_type": "markdown",
   "id": "a453183b",
   "metadata": {},
   "source": [
    "### Check repeating addresses to make sure they are not redundancies.\n",
    "\n",
    "Following addresses are checked with original pdf to prove they are separate plants:\n",
    "* 강원도  영월군  영월읍  정양리  540,  541-1,  541-2, 566,  567,  568,  569\n",
    "* 전남 나주시 영산동664-1 등지 (Multiple parks by same company in the same location (likely expansion)\n",
    "* 인천시  남구  학익동  723번지\n",
    "* 강원도  영월군  상동읍  천평리  249번지  일원\n",
    "* 강원  정선군  고한읍  고한리 산216-1  등지\n",
    "* 전남  광양시  광양읍  세풍리 2200\n",
    "* 충남  보령시  성주면  개화리 산30 \n",
    "* 울산시 북구 효암로 84-13 \n",
    "* 경북 김천 어모면\n",
    "* 경북  의성군  의성읍  철파리  531,  532-2,  533-2, 530-1,  530-2  번지 \n",
    "* 경기 포천 창수면 \n",
    "* 경북  안동시  임하면  신덕리  산93,  96,  97,  100-1, 100-2 \n",
    "* 인천시  서구  백범로  934번길 23\n",
    "* 부산 강서구 신호동\n",
    "* 경남  함안군  군북면  장지리 1407\n",
    "* 강원도  태백시  동점동  동 점산업단지  블록  3-3\n",
    "* 경기도  양주시  남면  삼일로485번길  67-22\n",
    "* 강원도  태백시  동점동  동점산업단지  블록  3-6(동점산업단지내) \n",
    "* 충남  서산시  대산읍  죽엽로 397일원(대죽리)\n",
    "* 부산시 기장군 정관면 산단1로 83\n",
    "* 전남 곡성군 오곡면 침곡리 산39, 송정리 산96 일원\n",
    "* 충남 아산시 둔포면 염작리 92-10, 92-28\n",
    "* 충남 당진군 석문면교로리 산 974\t\n",
    "* 인천시 서구 백석동 58  \n",
    "* 경기도  남양주  왕숙  공공주택지구\n",
    "* 경남 양산시 원동면대리 산 93-4\n",
    "* 경남 양산시 원동면대리 산 93-4\t\n",
    "\n",
    "Following addresses are pending investigations.\n",
    "* 충남  아산시  둔포면  염작리  92-28 -> I have reached out to KOREC to clarify the situation. The data has not be treated and all addresses remain in df_new.\n",
    "* 제주시  구좌읍  덕천리  산82 (Are these three separate solar farms? Or just duplication by mistake?)\n",
    "* 전북  익산시  석암로  3길 80(익산제2일반산업단지 내) (Are these three separate solar farms? Or just duplication by mistake?)\n",
    "* 경기  양주시  남면  상수리  산112-11\n",
    "* 경북  영덕군  영덕읍  매정리  1162번지  일원\n",
    "* 광주시  북구  운정동  627번지외  5필지\n",
    "* 전남  장흥군  장흥읍  삼산리  749-1번지  일원\n",
    "* 경북 군위군 삼국유사면 화수리 산45-1, 산44\n",
    "\n",
    "Except for the pending investigations, all addresses should be considered as unique from here below."
   ]
  },
  {
   "cell_type": "code",
   "execution_count": 235,
   "id": "ae5b356c",
   "metadata": {},
   "outputs": [],
   "source": [
    "# Some company column includes addresses. Fix these rows.\n",
    "\n",
    "no_address = df_cleaned.address.isna()\n",
    "\n",
    "df_cleaned[no_address].company.str.split(\" \")\n",
    "\n",
    "companies_and_adddress = df_cleaned.loc[no_address, 'company'].str.split()\n",
    "\n",
    "companies = companies_and_adddress.apply(lambda l: l[0])\n",
    "addresses = companies_and_adddress.apply(lambda l: \" \".join(l[1:]))\n",
    "\n",
    "df_cleaned.loc[no_address, 'company'] = companies\n",
    "df_cleaned.loc[no_address, 'address'] = addresses"
   ]
  },
  {
   "cell_type": "markdown",
   "id": "7a6ff8ba",
   "metadata": {},
   "source": [
    "### Identify coordinate location entries."
   ]
  },
  {
   "cell_type": "code",
   "execution_count": 236,
   "id": "d68449f6",
   "metadata": {
    "scrolled": false
   },
   "outputs": [],
   "source": [
    "has_coord = df_cleaned.address.str.contains(\"°|˚\")\n",
    "\n",
    "address_and_coord = df_cleaned.loc[has_coord, 'address'].str.split('\\(')\n",
    "addresses = address_and_coord.apply(lambda x: x[0])\n",
    "df_cleaned.loc[has_coord, 'address'] = addresses\n",
    "df_cleaned.loc[1424, 'address'] = \"전남 신안군 도초면 우이도리 남동측 해상\""
   ]
  },
  {
   "cell_type": "code",
   "execution_count": 260,
   "id": "d80cdb3c",
   "metadata": {
    "scrolled": false
   },
   "outputs": [
    {
     "name": "stderr",
     "output_type": "stream",
     "text": [
      "/var/folders/_c/dcjy1m9109bd_sq8l8j8zsdr0000gn/T/ipykernel_65599/1666838140.py:21: SettingWithCopyWarning: \n",
      "A value is trying to be set on a copy of a slice from a DataFrame.\n",
      "Try using .loc[row_indexer,col_indexer] = value instead\n",
      "\n",
      "See the caveats in the documentation: https://pandas.pydata.org/pandas-docs/stable/user_guide/indexing.html#returning-a-view-versus-a-copy\n",
      "  df_cleaned.address = df_cleaned.address.str.strip()\n"
     ]
    }
   ],
   "source": [
    "# Clean other rows with coordinates in the cell.\n",
    "\n",
    "df_cleaned[df_cleaned.address.str.contains(r\"\\d{8}\")]\n",
    "address_and_coord = df_cleaned.loc[df_cleaned.address.str.contains(r\"\\d{8}\"), 'address'].str.split('\\(')\n",
    "addresses = address_and_coord.apply(lambda x: x[0])\n",
    "df_cleaned.loc[df_cleaned.address.str.contains(r\"\\d{8}\"), 'address'] = addresses\n",
    "\n",
    "df_cleaned[df_cleaned.address.str.contains(\"N\")]\n",
    "address_and_coord = df_cleaned.loc[df_cleaned.address.str.contains(\"N\"), 'address'].str.split('\\(')\n",
    "addresses = address_and_coord.apply(lambda x: x[0])\n",
    "df_cleaned.loc[df_cleaned.address.str.contains(\"N\"), 'address'] = addresses\n",
    "\n",
    "has_coord = df_cleaned.address.str.contains(\"위도\") & df_cleaned.address.str.contains(\"경도\")\n",
    "df_cleaned[has_coord]\n",
    "address_and_coord = df_cleaned.loc[has_coord, 'address'].str.split('\\(')\n",
    "addresses = address_and_coord.apply(lambda x: x[0])\n",
    "df_cleaned.loc[has_coord, 'address'] = addresses\n",
    "\n",
    "df_cleaned.address = df_cleaned.address.str.strip()"
   ]
  },
  {
   "cell_type": "code",
   "execution_count": 267,
   "id": "15dbf239",
   "metadata": {
    "scrolled": true
   },
   "outputs": [
    {
     "name": "stderr",
     "output_type": "stream",
     "text": [
      "/var/folders/_c/dcjy1m9109bd_sq8l8j8zsdr0000gn/T/ipykernel_65599/3502554693.py:1: SettingWithCopyWarning: \n",
      "A value is trying to be set on a copy of a slice from a DataFrame.\n",
      "Try using .loc[row_indexer,col_indexer] = value instead\n",
      "\n",
      "See the caveats in the documentation: https://pandas.pydata.org/pandas-docs/stable/user_guide/indexing.html#returning-a-view-versus-a-copy\n",
      "  df_cleaned.capacity_MW = df_cleaned.capacity_MW.round(1)\n"
     ]
    }
   ],
   "source": [
    "df_cleaned.capacity_MW = df_cleaned.capacity_MW.round(1)\n",
    "df_cleaned.to_csv(\"df_cleaned.csv\", index=False)"
   ]
  }
 ],
 "metadata": {
  "kernelspec": {
   "display_name": "Python 3 (ipykernel)",
   "language": "python",
   "name": "python3"
  },
  "language_info": {
   "codemirror_mode": {
    "name": "ipython",
    "version": 3
   },
   "file_extension": ".py",
   "mimetype": "text/x-python",
   "name": "python",
   "nbconvert_exporter": "python",
   "pygments_lexer": "ipython3",
   "version": "3.11.0rc2"
  },
  "vscode": {
   "interpreter": {
    "hash": "44ff9170429f4d0c3381acc6be400e0ddcabfb86626b29013cb945a2d1181b9c"
   }
  }
 },
 "nbformat": 4,
 "nbformat_minor": 5
}
