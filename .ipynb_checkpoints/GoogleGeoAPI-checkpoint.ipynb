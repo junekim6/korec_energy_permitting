{
 "cells": [
  {
   "cell_type": "code",
   "execution_count": 1,
   "metadata": {},
   "outputs": [],
   "source": [
    "import requests\n"
   ]
  },
  {
   "cell_type": "markdown",
   "metadata": {},
   "source": [
    "GOOGLE'S GEOCODING API:\n",
    "https://developers.google.com/maps/documentation/geocoding"
   ]
  },
  {
   "cell_type": "code",
   "execution_count": 2,
   "metadata": {},
   "outputs": [],
   "source": [
    "#This loads The built-in Python OS libary which speaks to your operating system\n",
    "#And in this case we use it to retrieve a hidden environmental variable\n",
    "import os\n",
    "api_key = os.environ.get('GMAP_API')\n",
    "#in terminal:\n",
    "#$ echo 'export ENV_VAR=12345' >> ~/.zshenv\n",
    "#see: https://apple.stackexchange.com/questions/356441/how-to-add-permanent-environment-variable-in-zsh\n",
    "\n"
   ]
  },
  {
   "cell_type": "code",
   "execution_count": 3,
   "metadata": {},
   "outputs": [],
   "source": [
    "#I am setting up a couple variables to pass into requests' get() method\n",
    "#The variable r is an object that will contain the results of the request\n",
    "#and lots of information about the request\n",
    "import requests\n",
    "url = 'https://maps.googleapis.com/maps/api/geocode/json'\n",
    "keys = {'address': '2950 Broadway, New York, NY', 'key': api_key}\n",
    "r = requests.get(url,params=keys)"
   ]
  },
  {
   "cell_type": "code",
   "execution_count": 4,
   "metadata": {},
   "outputs": [],
   "source": [
    "#This pulls out the json response from r\n",
    "result_dic = r.json()"
   ]
  },
  {
   "cell_type": "code",
   "execution_count": 5,
   "metadata": {},
   "outputs": [
    {
     "data": {
      "text/plain": [
       "{'results': [{'address_components': [{'long_name': '2950',\n",
       "     'short_name': '2950',\n",
       "     'types': ['street_number']},\n",
       "    {'long_name': 'Broadway', 'short_name': 'Broadway', 'types': ['route']},\n",
       "    {'long_name': 'Manhattan',\n",
       "     'short_name': 'Manhattan',\n",
       "     'types': ['political', 'sublocality', 'sublocality_level_1']},\n",
       "    {'long_name': 'New York',\n",
       "     'short_name': 'New York',\n",
       "     'types': ['locality', 'political']},\n",
       "    {'long_name': 'New York County',\n",
       "     'short_name': 'New York County',\n",
       "     'types': ['administrative_area_level_2', 'political']},\n",
       "    {'long_name': 'New York',\n",
       "     'short_name': 'NY',\n",
       "     'types': ['administrative_area_level_1', 'political']},\n",
       "    {'long_name': 'United States',\n",
       "     'short_name': 'US',\n",
       "     'types': ['country', 'political']},\n",
       "    {'long_name': '10027', 'short_name': '10027', 'types': ['postal_code']},\n",
       "    {'long_name': '7060',\n",
       "     'short_name': '7060',\n",
       "     'types': ['postal_code_suffix']}],\n",
       "   'formatted_address': '2950 Broadway, New York, NY 10027, USA',\n",
       "   'geometry': {'location': {'lat': 40.8076308, 'lng': -73.9636318},\n",
       "    'location_type': 'ROOFTOP',\n",
       "    'viewport': {'northeast': {'lat': 40.8090480802915,\n",
       "      'lng': -73.9624472197085},\n",
       "     'southwest': {'lat': 40.8063501197085, 'lng': -73.9651451802915}}},\n",
       "   'place_id': 'ChIJyQ3Tlj72wokREkZCjslS1Rw',\n",
       "   'plus_code': {'compound_code': 'R25P+3G New York, NY',\n",
       "    'global_code': '87G8R25P+3G'},\n",
       "   'types': ['street_address']}],\n",
       " 'status': 'OK'}"
      ]
     },
     "execution_count": 5,
     "metadata": {},
     "output_type": "execute_result"
    }
   ],
   "source": [
    "#Viewing the JSON result\n",
    "result_dic"
   ]
  },
  {
   "cell_type": "code",
   "execution_count": 6,
   "metadata": {},
   "outputs": [
    {
     "data": {
      "text/plain": [
       "[{'long_name': '2950', 'short_name': '2950', 'types': ['street_number']},\n",
       " {'long_name': 'Broadway', 'short_name': 'Broadway', 'types': ['route']},\n",
       " {'long_name': 'Manhattan',\n",
       "  'short_name': 'Manhattan',\n",
       "  'types': ['political', 'sublocality', 'sublocality_level_1']},\n",
       " {'long_name': 'New York',\n",
       "  'short_name': 'New York',\n",
       "  'types': ['locality', 'political']},\n",
       " {'long_name': 'New York County',\n",
       "  'short_name': 'New York County',\n",
       "  'types': ['administrative_area_level_2', 'political']},\n",
       " {'long_name': 'New York',\n",
       "  'short_name': 'NY',\n",
       "  'types': ['administrative_area_level_1', 'political']},\n",
       " {'long_name': 'United States',\n",
       "  'short_name': 'US',\n",
       "  'types': ['country', 'political']},\n",
       " {'long_name': '10027', 'short_name': '10027', 'types': ['postal_code']},\n",
       " {'long_name': '7060', 'short_name': '7060', 'types': ['postal_code_suffix']}]"
      ]
     },
     "execution_count": 6,
     "metadata": {},
     "output_type": "execute_result"
    }
   ],
   "source": [
    "#Viewing parts of that result\n",
    "result_dic['results'][0]['address_components']"
   ]
  },
  {
   "cell_type": "code",
   "execution_count": 9,
   "metadata": {},
   "outputs": [
    {
     "data": {
      "text/plain": [
       "{'address_components': [{'long_name': '2950',\n",
       "   'short_name': '2950',\n",
       "   'types': ['street_number']},\n",
       "  {'long_name': 'Broadway', 'short_name': 'Broadway', 'types': ['route']},\n",
       "  {'long_name': 'Manhattan',\n",
       "   'short_name': 'Manhattan',\n",
       "   'types': ['political', 'sublocality', 'sublocality_level_1']},\n",
       "  {'long_name': 'New York',\n",
       "   'short_name': 'New York',\n",
       "   'types': ['locality', 'political']},\n",
       "  {'long_name': 'New York County',\n",
       "   'short_name': 'New York County',\n",
       "   'types': ['administrative_area_level_2', 'political']},\n",
       "  {'long_name': 'New York',\n",
       "   'short_name': 'NY',\n",
       "   'types': ['administrative_area_level_1', 'political']},\n",
       "  {'long_name': 'United States',\n",
       "   'short_name': 'US',\n",
       "   'types': ['country', 'political']},\n",
       "  {'long_name': '10027', 'short_name': '10027', 'types': ['postal_code']},\n",
       "  {'long_name': '7060',\n",
       "   'short_name': '7060',\n",
       "   'types': ['postal_code_suffix']}],\n",
       " 'formatted_address': '2950 Broadway, New York, NY 10027, USA',\n",
       " 'geometry': {'location': {'lat': 40.8076308, 'lng': -73.9636318},\n",
       "  'location_type': 'ROOFTOP',\n",
       "  'viewport': {'northeast': {'lat': 40.8090480802915,\n",
       "    'lng': -73.9624472197085},\n",
       "   'southwest': {'lat': 40.8063501197085, 'lng': -73.9651451802915}}},\n",
       " 'place_id': 'ChIJyQ3Tlj72wokREkZCjslS1Rw',\n",
       " 'plus_code': {'compound_code': 'R25P+3G New York, NY',\n",
       "  'global_code': '87G8R25P+3G'},\n",
       " 'types': ['street_address']}"
      ]
     },
     "execution_count": 9,
     "metadata": {},
     "output_type": "execute_result"
    }
   ],
   "source": [
    "result_dic['results'][0]"
   ]
  },
  {
   "cell_type": "code",
   "execution_count": 14,
   "metadata": {},
   "outputs": [
    {
     "data": {
      "text/plain": [
       "{'lat': 37.7749295, 'lng': -122.4194155}"
      ]
     },
     "execution_count": 14,
     "metadata": {},
     "output_type": "execute_result"
    }
   ],
   "source": [
    "result_dic['results'][0]['geometry']['location']"
   ]
  },
  {
   "cell_type": "markdown",
   "metadata": {},
   "source": [
    "### Using Google maps API with time.sleep()!!!\n",
    "Here I'm going to loop through an array (list!!!) of cities and get their coordinates. But I'm going to pause my loop so that I don't make too many requests to fast and upset Google.\n"
   ]
  },
  {
   "cell_type": "code",
   "execution_count": 15,
   "metadata": {},
   "outputs": [],
   "source": [
    "import time\n",
    "##Importing time allows me to slow down my loop\n",
    "#placeNames = ['Washington, DC','New York, NY','Boston, MA','San Francisco, CA','Canada','Portland, OR']\n",
    "\n",
    "placeNames = [\"San Franscisco, CA\",\"Atlanta, GA\",\"New York, NY\",\n",
    "    \"Richmond, VA\",\"Washington, DC\",\"Denver, CO\",\"Cincinnati, OH\",\n",
    "          \"Philadelphia, PA\",\"Topeka, KS\",\"New Orleans, LA\",\"Washington, DC\",\n",
    "          \"Helena, MT\",\"Olympia, WA\",\"Phoenix, AZ\", \"St. Louis, MO\",\"Oklahoma City, OK\",\"New Orleans, LA\"]\n"
   ]
  },
  {
   "cell_type": "code",
   "execution_count": 16,
   "metadata": {},
   "outputs": [
    {
     "data": {
      "text/plain": [
       "[{'place': 'San Franscisco, CA',\n",
       "  'geometry.type': 'Point',\n",
       "  'geometry.coordinates': [-122.4194155, 37.7749295]},\n",
       " {'place': 'Atlanta, GA',\n",
       "  'geometry.type': 'Point',\n",
       "  'geometry.coordinates': [-84.38768449999999, 33.748752]},\n",
       " {'place': 'New York, NY',\n",
       "  'geometry.type': 'Point',\n",
       "  'geometry.coordinates': [-74.0059728, 40.7127753]},\n",
       " {'place': 'Richmond, VA',\n",
       "  'geometry.type': 'Point',\n",
       "  'geometry.coordinates': [-77.4360481, 37.5407246]},\n",
       " {'place': 'Washington, DC',\n",
       "  'geometry.type': 'Point',\n",
       "  'geometry.coordinates': [-77.0368707, 38.9071923]},\n",
       " {'place': 'Denver, CO',\n",
       "  'geometry.type': 'Point',\n",
       "  'geometry.coordinates': [-104.990251, 39.7392358]},\n",
       " {'place': 'Cincinnati, OH',\n",
       "  'geometry.type': 'Point',\n",
       "  'geometry.coordinates': [-84.5120196, 39.1031182]},\n",
       " {'place': 'Philadelphia, PA',\n",
       "  'geometry.type': 'Point',\n",
       "  'geometry.coordinates': [-75.1652215, 39.9525839]},\n",
       " {'place': 'Topeka, KS',\n",
       "  'geometry.type': 'Point',\n",
       "  'geometry.coordinates': [-95.67515759999999, 39.0473451]},\n",
       " {'place': 'New Orleans, LA',\n",
       "  'geometry.type': 'Point',\n",
       "  'geometry.coordinates': [-90.0715323, 29.95106579999999]},\n",
       " {'place': 'Washington, DC',\n",
       "  'geometry.type': 'Point',\n",
       "  'geometry.coordinates': [-77.0368707, 38.9071923]},\n",
       " {'place': 'Helena, MT',\n",
       "  'geometry.type': 'Point',\n",
       "  'geometry.coordinates': [-112.0391057, 46.5891452]},\n",
       " {'place': 'Olympia, WA',\n",
       "  'geometry.type': 'Point',\n",
       "  'geometry.coordinates': [-122.9006951, 47.0378741]},\n",
       " {'place': 'Phoenix, AZ',\n",
       "  'geometry.type': 'Point',\n",
       "  'geometry.coordinates': [-112.0740373, 33.4483771]},\n",
       " {'place': 'St. Louis, MO',\n",
       "  'geometry.type': 'Point',\n",
       "  'geometry.coordinates': [-90.19940419999999, 38.6270025]},\n",
       " {'place': 'Oklahoma City, OK',\n",
       "  'geometry.type': 'Point',\n",
       "  'geometry.coordinates': [-97.5164276, 35.4675602]},\n",
       " {'place': 'New Orleans, LA',\n",
       "  'geometry.type': 'Point',\n",
       "  'geometry.coordinates': [-90.0715323, 29.95106579999999]}]"
      ]
     },
     "execution_count": 16,
     "metadata": {},
     "output_type": "execute_result"
    }
   ],
   "source": [
    "\n",
    "geometry_df = []\n",
    "#looping through the placeNames list\n",
    "for place in placeNames:\n",
    "    url = 'https://maps.googleapis.com/maps/api/geocode/json'\n",
    "    keys = {'address': place, 'key': api_key}\n",
    "    r = requests.get(url,params=keys)\n",
    "    result_dic = r.json()\n",
    "    lat = result_dic['results'][0]['geometry']['location']['lat']\n",
    "    long = result_dic['results'][0]['geometry']['location']['lng']\n",
    "    coords = []\n",
    "    coords.append(long)\n",
    "    coords.append(lat)\n",
    "    mygeometry = {'place': place, 'geometry.type': 'Point','geometry.coordinates':coords}\n",
    "    geometry_df.append(mygeometry)\n",
    "    print(mygeometry)\n",
    "    time.sleep(1)"
   ]
  },
  {
   "cell_type": "code",
   "execution_count": 17,
   "metadata": {},
   "outputs": [
    {
     "data": {
      "text/plain": [
       "[{'place': 'San Franscisco, CA',\n",
       "  'geometry.type': 'Point',\n",
       "  'geometry.coordinates': [-122.4194155, 37.7749295]},\n",
       " {'place': 'Atlanta, GA',\n",
       "  'geometry.type': 'Point',\n",
       "  'geometry.coordinates': [-84.38768449999999, 33.748752]},\n",
       " {'place': 'New York, NY',\n",
       "  'geometry.type': 'Point',\n",
       "  'geometry.coordinates': [-74.0059728, 40.7127753]},\n",
       " {'place': 'Richmond, VA',\n",
       "  'geometry.type': 'Point',\n",
       "  'geometry.coordinates': [-77.4360481, 37.5407246]},\n",
       " {'place': 'Washington, DC',\n",
       "  'geometry.type': 'Point',\n",
       "  'geometry.coordinates': [-77.0368707, 38.9071923]},\n",
       " {'place': 'Denver, CO',\n",
       "  'geometry.type': 'Point',\n",
       "  'geometry.coordinates': [-104.990251, 39.7392358]},\n",
       " {'place': 'Cincinnati, OH',\n",
       "  'geometry.type': 'Point',\n",
       "  'geometry.coordinates': [-84.5120196, 39.1031182]},\n",
       " {'place': 'Philadelphia, PA',\n",
       "  'geometry.type': 'Point',\n",
       "  'geometry.coordinates': [-75.1652215, 39.9525839]},\n",
       " {'place': 'Topeka, KS',\n",
       "  'geometry.type': 'Point',\n",
       "  'geometry.coordinates': [-95.67515759999999, 39.0473451]},\n",
       " {'place': 'New Orleans, LA',\n",
       "  'geometry.type': 'Point',\n",
       "  'geometry.coordinates': [-90.0715323, 29.95106579999999]},\n",
       " {'place': 'Washington, DC',\n",
       "  'geometry.type': 'Point',\n",
       "  'geometry.coordinates': [-77.0368707, 38.9071923]},\n",
       " {'place': 'Helena, MT',\n",
       "  'geometry.type': 'Point',\n",
       "  'geometry.coordinates': [-112.0391057, 46.5891452]},\n",
       " {'place': 'Olympia, WA',\n",
       "  'geometry.type': 'Point',\n",
       "  'geometry.coordinates': [-122.9006951, 47.0378741]},\n",
       " {'place': 'Phoenix, AZ',\n",
       "  'geometry.type': 'Point',\n",
       "  'geometry.coordinates': [-112.0740373, 33.4483771]},\n",
       " {'place': 'St. Louis, MO',\n",
       "  'geometry.type': 'Point',\n",
       "  'geometry.coordinates': [-90.19940419999999, 38.6270025]},\n",
       " {'place': 'Oklahoma City, OK',\n",
       "  'geometry.type': 'Point',\n",
       "  'geometry.coordinates': [-97.5164276, 35.4675602]},\n",
       " {'place': 'New Orleans, LA',\n",
       "  'geometry.type': 'Point',\n",
       "  'geometry.coordinates': [-90.0715323, 29.95106579999999]}]"
      ]
     },
     "execution_count": 17,
     "metadata": {},
     "output_type": "execute_result"
    }
   ],
   "source": []
  },
  {
   "cell_type": "code",
   "execution_count": 24,
   "metadata": {},
   "outputs": [],
   "source": [
    "#Writing my final geometry data frame to a JSON file\n",
    "#On my computer!!!\n",
    "import json\n",
    "with open('result_df12-9.json', 'w') as fp:\n",
    "    json.dump(geometry_df, fp)"
   ]
  },
  {
   "cell_type": "code",
   "execution_count": null,
   "metadata": {},
   "outputs": [],
   "source": []
  },
  {
   "cell_type": "code",
   "execution_count": null,
   "metadata": {},
   "outputs": [],
   "source": []
  }
 ],
 "metadata": {
  "kernelspec": {
   "display_name": "Python 3 (ipykernel)",
   "language": "python",
   "name": "python3"
  },
  "language_info": {
   "codemirror_mode": {
    "name": "ipython",
    "version": 3
   },
   "file_extension": ".py",
   "mimetype": "text/x-python",
   "name": "python",
   "nbconvert_exporter": "python",
   "pygments_lexer": "ipython3",
   "version": "3.11.0rc2"
  }
 },
 "nbformat": 4,
 "nbformat_minor": 2
}
